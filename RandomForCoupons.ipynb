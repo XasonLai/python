{
 "cells": [
  {
   "cell_type": "code",
   "execution_count": 2,
   "metadata": {
    "collapsed": true
   },
   "outputs": [],
   "source": [
    "import random, string\n",
    "\n",
    "def rand_str(num, length = 7):\n",
    "    f = open('Activation_code.txt', 'wb')\n",
    "    for i in range(num):\n",
    "        chars = string.letters + string.digits\n",
    "        s = [random.choice(chars) for i in range(length)]\n",
    "        f.write(''.join(s) + '\\n')\n",
    "    f.close()\n",
    "\n",
    "if __name__ == '__main__':\n",
    "    rand_str(20)\n"
   ]
  },
  {
   "cell_type": "code",
   "execution_count": 30,
   "metadata": {
    "collapsed": false
   },
   "outputs": [
    {
     "name": "stdout",
     "output_type": "stream",
     "text": [
      "['oc4uJ', 'ueoAE']\n"
     ]
    }
   ],
   "source": [
    "import string,random\n",
    "\n",
    "chars = string.letters + string.digits\n",
    "\n",
    "\n",
    "def generate_coupons(count, coupon_length=5):\n",
    "    coupons = []\n",
    "    for i in range(count):\n",
    "        coupon = generate_one_coupon(coupon_length=coupon_length)\n",
    "        while coupon in coupons:\n",
    "            coupon = generate_one_coupon(coupon_length)\n",
    "\n",
    "        coupons.append(coupon)\n",
    "\n",
    "    return coupons\n",
    "\n",
    "\n",
    "def generate_one_coupon(coupon_length=5):\n",
    "    coupon = []\n",
    "    for i in range(coupon_length):\n",
    "        ch = choice(chars)\n",
    "        coupon.append(ch)\n",
    "    return \"\".join(coupon)\n",
    "\n",
    "\n",
    "if __name__ == '__main__':\n",
    "    coupons = generate_coupons(2, 5)\n",
    "    print(coupons)"
   ]
  },
  {
   "cell_type": "code",
   "execution_count": 20,
   "metadata": {
    "collapsed": false,
    "scrolled": true
   },
   "outputs": [
    {
     "name": "stdout",
     "output_type": "stream",
     "text": [
      "[UUID('04ddb0cf-7635-11e5-b6af-ff2ad3e0e0c5'), UUID('04ddb0d0-7635-11e5-849e-ff2ad3e0e0c5'), UUID('04ddb0d1-7635-11e5-bbf9-ff2ad3e0e0c5'), UUID('04ddb0d2-7635-11e5-9721-ff2ad3e0e0c5'), UUID('04ddb0d3-7635-11e5-97f3-ff2ad3e0e0c5'), UUID('04ddb0d4-7635-11e5-b151-ff2ad3e0e0c5'), UUID('04ddb0d5-7635-11e5-98af-ff2ad3e0e0c5'), UUID('04ddd7de-7635-11e5-b4ea-ff2ad3e0e0c5'), UUID('04ddd7df-7635-11e5-884c-ff2ad3e0e0c5'), UUID('04ddd7e0-7635-11e5-b6a7-ff2ad3e0e0c5'), UUID('04ddd7e1-7635-11e5-b10b-ff2ad3e0e0c5'), UUID('04ddd7e2-7635-11e5-9193-ff2ad3e0e0c5'), UUID('04ddd7e3-7635-11e5-9dc7-ff2ad3e0e0c5'), UUID('04ddd7e4-7635-11e5-84be-ff2ad3e0e0c5'), UUID('04ddd7e5-7635-11e5-9f16-ff2ad3e0e0c5'), UUID('04ddd7e6-7635-11e5-868d-ff2ad3e0e0c5'), UUID('04ddd7e7-7635-11e5-87b0-ff2ad3e0e0c5'), UUID('04ddd7e8-7635-11e5-881a-ff2ad3e0e0c5'), UUID('04ddd7e9-7635-11e5-b855-ff2ad3e0e0c5'), UUID('04ddd7ea-7635-11e5-b63b-ff2ad3e0e0c5'), UUID('04ddd7eb-7635-11e5-800b-ff2ad3e0e0c5'), UUID('04ddd7ec-7635-11e5-b5f7-ff2ad3e0e0c5'), UUID('04ddd7ed-7635-11e5-bd14-ff2ad3e0e0c5'), UUID('04ddd7ee-7635-11e5-a4c7-ff2ad3e0e0c5'), UUID('04ddd7ef-7635-11e5-a96c-ff2ad3e0e0c5'), UUID('04ddd7f0-7635-11e5-964f-ff2ad3e0e0c5'), UUID('04ddd7f1-7635-11e5-8faa-ff2ad3e0e0c5'), UUID('04ddd7f2-7635-11e5-ba48-ff2ad3e0e0c5'), UUID('04ddd7f3-7635-11e5-abd7-ff2ad3e0e0c5'), UUID('04ddd7f4-7635-11e5-bdfc-ff2ad3e0e0c5'), UUID('04ddd7f5-7635-11e5-9f83-ff2ad3e0e0c5'), UUID('04ddd7f6-7635-11e5-9a2c-ff2ad3e0e0c5'), UUID('04ddd7f7-7635-11e5-a7c2-ff2ad3e0e0c5'), UUID('04ddd7f8-7635-11e5-a41a-ff2ad3e0e0c5'), UUID('04ddd7f9-7635-11e5-a0b1-ff2ad3e0e0c5'), UUID('04ddd7fa-7635-11e5-9a7c-ff2ad3e0e0c5'), UUID('04ddd7fb-7635-11e5-a2b4-ff2ad3e0e0c5'), UUID('04ddd7fc-7635-11e5-b451-ff2ad3e0e0c5'), UUID('04ddd7fd-7635-11e5-bd51-ff2ad3e0e0c5'), UUID('04ddd7fe-7635-11e5-9772-ff2ad3e0e0c5'), UUID('04ddd7ff-7635-11e5-b2bd-ff2ad3e0e0c5'), UUID('04ddd800-7635-11e5-b9f6-ff2ad3e0e0c5'), UUID('04ddd801-7635-11e5-b595-ff2ad3e0e0c5'), UUID('04ddd802-7635-11e5-bc2b-ff2ad3e0e0c5'), UUID('04ddd803-7635-11e5-b91c-ff2ad3e0e0c5'), UUID('04ddd804-7635-11e5-a1ca-ff2ad3e0e0c5'), UUID('04ddfef0-7635-11e5-8ece-ff2ad3e0e0c5'), UUID('04ddfef1-7635-11e5-8eca-ff2ad3e0e0c5'), UUID('04ddfef2-7635-11e5-9f8f-ff2ad3e0e0c5'), UUID('04ddfef3-7635-11e5-a875-ff2ad3e0e0c5'), UUID('04ddfef4-7635-11e5-84db-ff2ad3e0e0c5'), UUID('04ddfef5-7635-11e5-a913-ff2ad3e0e0c5'), UUID('04ddfef6-7635-11e5-9a56-ff2ad3e0e0c5'), UUID('04ddfef7-7635-11e5-978b-ff2ad3e0e0c5'), UUID('04ddfef8-7635-11e5-ac8a-ff2ad3e0e0c5'), UUID('04ddfef9-7635-11e5-9f86-ff2ad3e0e0c5'), UUID('04ddfefa-7635-11e5-ac1e-ff2ad3e0e0c5'), UUID('04ddfefb-7635-11e5-80f0-ff2ad3e0e0c5'), UUID('04ddfefc-7635-11e5-8f25-ff2ad3e0e0c5'), UUID('04ddfefd-7635-11e5-96f2-ff2ad3e0e0c5'), UUID('04ddfefe-7635-11e5-836f-ff2ad3e0e0c5'), UUID('04ddfeff-7635-11e5-9d68-ff2ad3e0e0c5'), UUID('04ddff00-7635-11e5-b371-ff2ad3e0e0c5'), UUID('04ddff01-7635-11e5-b97a-ff2ad3e0e0c5'), UUID('04ddff02-7635-11e5-a9dd-ff2ad3e0e0c5'), UUID('04ddff03-7635-11e5-bb87-ff2ad3e0e0c5'), UUID('04ddff04-7635-11e5-972e-ff2ad3e0e0c5'), UUID('04ddff05-7635-11e5-bdad-ff2ad3e0e0c5'), UUID('04ddff06-7635-11e5-9328-ff2ad3e0e0c5'), UUID('04ddff07-7635-11e5-b462-ff2ad3e0e0c5'), UUID('04ddff08-7635-11e5-9179-ff2ad3e0e0c5'), UUID('04ddff09-7635-11e5-9b43-ff2ad3e0e0c5'), UUID('04ddff0a-7635-11e5-8de3-ff2ad3e0e0c5'), UUID('04ddff0b-7635-11e5-a78c-ff2ad3e0e0c5'), UUID('04ddff0c-7635-11e5-b536-ff2ad3e0e0c5'), UUID('04ddff0d-7635-11e5-9faf-ff2ad3e0e0c5'), UUID('04ddff0e-7635-11e5-9b98-ff2ad3e0e0c5'), UUID('04ddff0f-7635-11e5-bdd8-ff2ad3e0e0c5'), UUID('04ddff10-7635-11e5-83b3-ff2ad3e0e0c5'), UUID('04ddff11-7635-11e5-b4e4-ff2ad3e0e0c5'), UUID('04ddff12-7635-11e5-bccd-ff2ad3e0e0c5'), UUID('04ddff13-7635-11e5-abf0-ff2ad3e0e0c5'), UUID('04ddff14-7635-11e5-868a-ff2ad3e0e0c5'), UUID('04ddff15-7635-11e5-aebf-ff2ad3e0e0c5'), UUID('04ddff16-7635-11e5-993f-ff2ad3e0e0c5'), UUID('04ddff17-7635-11e5-80cc-ff2ad3e0e0c5'), UUID('04ddff18-7635-11e5-9582-ff2ad3e0e0c5'), UUID('04ddff19-7635-11e5-ab67-ff2ad3e0e0c5'), UUID('04ddff1a-7635-11e5-8b42-ff2ad3e0e0c5'), UUID('04ddff1b-7635-11e5-b6cf-ff2ad3e0e0c5'), UUID('04ddff1c-7635-11e5-b416-ff2ad3e0e0c5'), UUID('04ddff1d-7635-11e5-9233-ff2ad3e0e0c5'), UUID('04ddff1e-7635-11e5-bf1d-ff2ad3e0e0c5'), UUID('04ddff1f-7635-11e5-ae79-ff2ad3e0e0c5'), UUID('04ddff20-7635-11e5-8df4-ff2ad3e0e0c5'), UUID('04ddff21-7635-11e5-9e75-ff2ad3e0e0c5'), UUID('04ddff22-7635-11e5-a227-ff2ad3e0e0c5'), UUID('04ddff23-7635-11e5-86ba-ff2ad3e0e0c5'), UUID('04ddff24-7635-11e5-a1bc-ff2ad3e0e0c5'), UUID('04ddff25-7635-11e5-82be-ff2ad3e0e0c5'), UUID('04ddff26-7635-11e5-b682-ff2ad3e0e0c5'), UUID('04de2600-7635-11e5-83d3-ff2ad3e0e0c5'), UUID('04de2601-7635-11e5-85bd-ff2ad3e0e0c5'), UUID('04de2602-7635-11e5-8df5-ff2ad3e0e0c5'), UUID('04de2603-7635-11e5-ae04-ff2ad3e0e0c5'), UUID('04de2604-7635-11e5-8614-ff2ad3e0e0c5'), UUID('04de2605-7635-11e5-b749-ff2ad3e0e0c5'), UUID('04de2606-7635-11e5-bc46-ff2ad3e0e0c5'), UUID('04de2607-7635-11e5-8d11-ff2ad3e0e0c5'), UUID('04de2608-7635-11e5-b87a-ff2ad3e0e0c5'), UUID('04de2609-7635-11e5-a8a9-ff2ad3e0e0c5'), UUID('04de260a-7635-11e5-8c1b-ff2ad3e0e0c5'), UUID('04de260b-7635-11e5-b055-ff2ad3e0e0c5'), UUID('04de260c-7635-11e5-82f7-ff2ad3e0e0c5'), UUID('04de260d-7635-11e5-a705-ff2ad3e0e0c5'), UUID('04de260e-7635-11e5-a086-ff2ad3e0e0c5'), UUID('04de260f-7635-11e5-b170-ff2ad3e0e0c5'), UUID('04de2610-7635-11e5-a47b-ff2ad3e0e0c5'), UUID('04de2611-7635-11e5-9179-ff2ad3e0e0c5'), UUID('04de2612-7635-11e5-9773-ff2ad3e0e0c5'), UUID('04de2613-7635-11e5-af21-ff2ad3e0e0c5'), UUID('04de2614-7635-11e5-879b-ff2ad3e0e0c5'), UUID('04de2615-7635-11e5-afec-ff2ad3e0e0c5'), UUID('04de2616-7635-11e5-8cb3-ff2ad3e0e0c5'), UUID('04de2617-7635-11e5-ae10-ff2ad3e0e0c5'), UUID('04de2618-7635-11e5-a610-ff2ad3e0e0c5'), UUID('04de2619-7635-11e5-849b-ff2ad3e0e0c5'), UUID('04de261a-7635-11e5-a142-ff2ad3e0e0c5'), UUID('04de261b-7635-11e5-9f6d-ff2ad3e0e0c5'), UUID('04de261c-7635-11e5-93ce-ff2ad3e0e0c5'), UUID('04de261d-7635-11e5-96d9-ff2ad3e0e0c5'), UUID('04de261e-7635-11e5-b61b-ff2ad3e0e0c5'), UUID('04de261f-7635-11e5-b043-ff2ad3e0e0c5'), UUID('04de2620-7635-11e5-9947-ff2ad3e0e0c5'), UUID('04de2621-7635-11e5-8e54-ff2ad3e0e0c5'), UUID('04de2622-7635-11e5-acc1-ff2ad3e0e0c5'), UUID('04de2623-7635-11e5-8f47-ff2ad3e0e0c5'), UUID('04de2624-7635-11e5-8d10-ff2ad3e0e0c5'), UUID('04de2625-7635-11e5-8724-ff2ad3e0e0c5'), UUID('04de2626-7635-11e5-94fc-ff2ad3e0e0c5'), UUID('04de2627-7635-11e5-b8e9-ff2ad3e0e0c5'), UUID('04de2628-7635-11e5-87f8-ff2ad3e0e0c5'), UUID('04de2629-7635-11e5-8dd6-ff2ad3e0e0c5'), UUID('04de262a-7635-11e5-9636-ff2ad3e0e0c5'), UUID('04de262b-7635-11e5-b347-ff2ad3e0e0c5'), UUID('04de262c-7635-11e5-a8eb-ff2ad3e0e0c5'), UUID('04de262d-7635-11e5-bf72-ff2ad3e0e0c5'), UUID('04de262e-7635-11e5-9c43-ff2ad3e0e0c5'), UUID('04de262f-7635-11e5-aa52-ff2ad3e0e0c5'), UUID('04de2630-7635-11e5-af0e-ff2ad3e0e0c5'), UUID('04de4d0f-7635-11e5-986e-ff2ad3e0e0c5'), UUID('04de4d10-7635-11e5-92e7-ff2ad3e0e0c5'), UUID('04de4d11-7635-11e5-8978-ff2ad3e0e0c5'), UUID('04de4d12-7635-11e5-a150-ff2ad3e0e0c5'), UUID('04de4d13-7635-11e5-b29a-ff2ad3e0e0c5'), UUID('04de4d14-7635-11e5-9874-ff2ad3e0e0c5'), UUID('04de4d15-7635-11e5-bc35-ff2ad3e0e0c5'), UUID('04de4d16-7635-11e5-80de-ff2ad3e0e0c5'), UUID('04de4d17-7635-11e5-858b-ff2ad3e0e0c5'), UUID('04de4d18-7635-11e5-90f9-ff2ad3e0e0c5'), UUID('04de4d19-7635-11e5-aaa6-ff2ad3e0e0c5'), UUID('04de4d1a-7635-11e5-8970-ff2ad3e0e0c5'), UUID('04de4d1b-7635-11e5-8893-ff2ad3e0e0c5'), UUID('04de4d1c-7635-11e5-9938-ff2ad3e0e0c5'), UUID('04de4d1d-7635-11e5-aefa-ff2ad3e0e0c5'), UUID('04de4d1e-7635-11e5-9996-ff2ad3e0e0c5'), UUID('04de4d1f-7635-11e5-8ab7-ff2ad3e0e0c5'), UUID('04de4d20-7635-11e5-8ea6-ff2ad3e0e0c5'), UUID('04de4d21-7635-11e5-84be-ff2ad3e0e0c5'), UUID('04de4d22-7635-11e5-ab6d-ff2ad3e0e0c5'), UUID('04de4d23-7635-11e5-9917-ff2ad3e0e0c5'), UUID('04de4d24-7635-11e5-9460-ff2ad3e0e0c5'), UUID('04de4d25-7635-11e5-bd07-ff2ad3e0e0c5'), UUID('04de4d26-7635-11e5-b365-ff2ad3e0e0c5'), UUID('04de4d27-7635-11e5-a8e6-ff2ad3e0e0c5'), UUID('04de4d28-7635-11e5-8557-ff2ad3e0e0c5'), UUID('04de4d29-7635-11e5-bd8f-ff2ad3e0e0c5'), UUID('04de4d2a-7635-11e5-931f-ff2ad3e0e0c5'), UUID('04de4d2b-7635-11e5-bbf6-ff2ad3e0e0c5'), UUID('04de4d2c-7635-11e5-8816-ff2ad3e0e0c5'), UUID('04de4d2d-7635-11e5-b740-ff2ad3e0e0c5'), UUID('04de4d2e-7635-11e5-9be5-ff2ad3e0e0c5'), UUID('04de4d2f-7635-11e5-8c7c-ff2ad3e0e0c5'), UUID('04de4d30-7635-11e5-b1e6-ff2ad3e0e0c5'), UUID('04de7421-7635-11e5-81d1-ff2ad3e0e0c5'), UUID('04de7422-7635-11e5-8172-ff2ad3e0e0c5'), UUID('04de7423-7635-11e5-92ff-ff2ad3e0e0c5'), UUID('04de7424-7635-11e5-a792-ff2ad3e0e0c5'), UUID('04de7425-7635-11e5-9952-ff2ad3e0e0c5'), UUID('04de7426-7635-11e5-904d-ff2ad3e0e0c5'), UUID('04de7427-7635-11e5-9d5a-ff2ad3e0e0c5'), UUID('04de7428-7635-11e5-b30b-ff2ad3e0e0c5'), UUID('04de7429-7635-11e5-b26f-ff2ad3e0e0c5'), UUID('04de742a-7635-11e5-8e0e-ff2ad3e0e0c5'), UUID('04de742b-7635-11e5-831f-ff2ad3e0e0c5'), UUID('04de742c-7635-11e5-b407-ff2ad3e0e0c5'), UUID('04de742d-7635-11e5-a939-ff2ad3e0e0c5'), UUID('04de742e-7635-11e5-9145-ff2ad3e0e0c5'), UUID('04de742f-7635-11e5-ab5b-ff2ad3e0e0c5'), UUID('04de7430-7635-11e5-b9ab-ff2ad3e0e0c5')]\n"
     ]
    }
   ],
   "source": [
    "import uuid\n",
    "\n",
    "uuids = []\n",
    "for i in range(200):\n",
    "\tuuids.append(uuid.uuid1())\n",
    "print uuids"
   ]
  },
  {
   "cell_type": "code",
   "execution_count": 7,
   "metadata": {
    "collapsed": false,
    "scrolled": true
   },
   "outputs": [
    {
     "name": "stdout",
     "output_type": "stream",
     "text": [
      "['f981bda1763211e58330', 'f981bda2763211e5842f', 'f981bda3763211e58fda', 'f981bda4763211e58e90', 'f981bda5763211e58b22', 'f981bda6763211e59cc5', 'f981bda7763211e58798', 'f981bda8763211e58457', 'f981bda9763211e58456', 'f981bdaa763211e5b54b', 'f981e4b0763211e588b2', 'f981e4b1763211e5ad67', 'f981e4b2763211e58de5', 'f981e4b3763211e58b0a', 'f981e4b4763211e59c79', 'f981e4b5763211e595cd', 'f981e4b6763211e5b79c', 'f981e4b7763211e5829f', 'f981e4b8763211e58c7a', 'f981e4b9763211e59d46', 'f981e4ba763211e59d55', 'f981e4bb763211e5a00f', 'f981e4bc763211e5b1b0', 'f981e4bd763211e5aec6', 'f981e4be763211e5af81', 'f981e4bf763211e5ba0f', 'f981e4c0763211e593f9', 'f981e4c1763211e5a513', 'f981e4c2763211e58510', 'f981e4c3763211e5a957', 'f981e4c4763211e5b8c5', 'f981e4c5763211e5b452', 'f981e4c6763211e5a2fa', 'f981e4c7763211e5804d', 'f981e4c8763211e59103', 'f981e4c9763211e5ab6e', 'f981e4ca763211e5b285', 'f981e4cb763211e58b7d', 'f981e4cc763211e59191', 'f981e4cd763211e5b5d5', 'f981e4ce763211e5b8ba', 'f981e4cf763211e5948c', 'f981e4d0763211e5825c', 'f981e4d1763211e5a5fe', 'f981e4d2763211e5b376', 'f981e4d3763211e592b4', 'f981e4d4763211e59963', 'f981e4d5763211e5a37e', 'f9820bc0763211e5b2d9', 'f9820bc1763211e59e5a', 'f9820bc2763211e5bf4d', 'f9820bc3763211e59018', 'f9820bc4763211e5843e', 'f9820bc5763211e5a179', 'f9820bc6763211e5bcdf', 'f9820bc7763211e5a557', 'f9820bc8763211e59b65', 'f9820bc9763211e5be4c', 'f9820bca763211e5830c', 'f9820bcb763211e5998a', 'f9820bcc763211e5841f', 'f9820bcd763211e5a9db', 'f9820bce763211e5a3b9', 'f9820bcf763211e5a811', 'f9820bd0763211e59d68', 'f9820bd1763211e5b008', 'f9820bd2763211e5b1f8', 'f9820bd3763211e588ae', 'f9820bd4763211e58eee', 'f9820bd5763211e589fb', 'f9820bd6763211e5b9e6', 'f9820bd7763211e595c2', 'f9820bd8763211e5a848', 'f9820bd9763211e595f4', 'f9820bda763211e593fb', 'f9820bdb763211e5bac7', 'f9820bdc763211e587b8', 'f9820bdd763211e592e8', 'f9820bde763211e5aa45', 'f9820bdf763211e5b5bf', 'f9820be0763211e5bcad', 'f9820be1763211e5ab9c', 'f9820be2763211e5a31d', 'f9820be3763211e58b18', 'f9820be4763211e5a80a', 'f9820be5763211e585ae', 'f98232d1763211e590a1', 'f98232d2763211e5a41c', 'f98232d3763211e5a2cb', 'f98232d4763211e58923', 'f98232d5763211e5be6c', 'f98232d6763211e5bb8d', 'f98232d7763211e5a22c', 'f98232d8763211e58eec', 'f98232d9763211e59c30', 'f98232da763211e59ec1', 'f98232db763211e58834', 'f98232dc763211e59c97', 'f98232dd763211e5a74c', 'f98232de763211e58606', 'f98232df763211e59c2c', 'f98232e0763211e58620', 'f98232e1763211e5ab42', 'f98232e2763211e58757', 'f98232e3763211e5a71b', 'f98232e4763211e580d9', 'f98232e5763211e59d5c', 'f98232e6763211e5ac58', 'f98232e7763211e5bc7a', 'f98259e1763211e586a5', 'f98259e2763211e5bc1e', 'f98259e3763211e5a1f3', 'f98259e4763211e5831c', 'f98259e5763211e5a804', 'f98259e6763211e59664', 'f98259e7763211e58677', 'f98259e8763211e586e2', 'f98259e9763211e58fb6', 'f98259ea763211e58054', 'f98259eb763211e598fe', 'f98259ec763211e59d3e', 'f98259ed763211e5b66f', 'f98259ee763211e5a958', 'f98259ef763211e59c50', 'f98259f0763211e5988e', 'f98259f1763211e5b3b0', 'f98259f2763211e59190', 'f98259f3763211e5a50e', 'f98259f4763211e5a9ba', 'f98259f5763211e59286', 'f98259f6763211e588ff', 'f98259f7763211e5a5fe', 'f98259f8763211e586c3', 'f98259f9763211e58f8e', 'f98280f0763211e5b64e', 'f98280f1763211e5bbee', 'f98280f2763211e59704', 'f98280f3763211e5aaf9', 'f98280f4763211e5b761', 'f98280f5763211e5910e', 'f98280f6763211e58610', 'f98280f7763211e5ad6c', 'f98280f8763211e5a8f7', 'f98280f9763211e587d4', 'f98280fa763211e5abbf', 'f98280fb763211e5907d', 'f98280fc763211e593ea', 'f98280fd763211e59c3f', 'f98280fe763211e582ea', 'f98280ff763211e59f74', 'f9828100763211e58277', 'f9828101763211e5a51b', 'f9828102763211e5a78b', 'f9828103763211e58867', 'f9828104763211e5a928', 'f9828105763211e5ad29', 'f9828106763211e59af3', 'f9828107763211e5a49f', 'f982a800763211e59da2', 'f982a801763211e5964e', 'f982a802763211e5b278', 'f982a803763211e5819a', 'f982a804763211e5844a', 'f982a805763211e5852b', 'f982a806763211e5a0b1', 'f982a807763211e59d6e', 'f982a808763211e5ae88', 'f982a809763211e5adac', 'f982a80a763211e59497', 'f982a80b763211e5b334', 'f982a80c763211e58f7c', 'f982a80d763211e59df2', 'f982a80e763211e594d3', 'f982a80f763211e58fa1', 'f982a810763211e58d84', 'f982a811763211e59975', 'f982a812763211e5acb9', 'f9831d2e763211e59750', 'f9831d2f763211e5910d', 'f9831d30763211e58d00', 'f9831d31763211e58688', 'f9831d32763211e5b2fc', 'f9831d33763211e5a922', 'f9831d34763211e5bb69', 'f9834440763211e59431', 'f9834441763211e59349', 'f9834442763211e592d3', 'f9834443763211e5bf3e', 'f9834444763211e59cb8', 'f9834445763211e58c8d', 'f9834446763211e5a561', 'f9834447763211e58a9d', 'f9834448763211e580a6', 'f9834449763211e58887', 'f983444a763211e5925a', 'f983444b763211e58081', 'f983444c763211e5b375', 'f983444d763211e5bcb3', 'f9836b4f763211e58d4f', 'f9836b50763211e5bcac']\n"
     ]
    }
   ],
   "source": [
    "import uuid\n",
    "\n",
    "\n",
    "def create_code(num, length):\n",
    "#生成”num“个激活码，每个激活码含有”length“位\n",
    "    result = []\n",
    "    while True:\n",
    "        uuid_id = uuid.uuid1()\n",
    "        temp = str(uuid_id).replace('-', '')[:length]\n",
    "        if not temp in result:\n",
    "            result.append(temp)\n",
    "        if len(result) == num:\n",
    "            break\n",
    "    return result\n",
    "\n",
    "print create_code(200, 20)"
   ]
  },
  {
   "cell_type": "code",
   "execution_count": 31,
   "metadata": {
    "collapsed": false
   },
   "outputs": [
    {
     "ename": "ImportError",
     "evalue": "No module named encrypt",
     "output_type": "error",
     "traceback": [
      "\u001b[1;31m---------------------------------------------------------------------------\u001b[0m",
      "\u001b[1;31mImportError\u001b[0m                               Traceback (most recent call last)",
      "\u001b[1;32m<ipython-input-31-8c355f078b9e>\u001b[0m in \u001b[0;36m<module>\u001b[1;34m()\u001b[0m\n\u001b[1;32m----> 1\u001b[1;33m \u001b[1;32mimport\u001b[0m \u001b[0mencrypt\u001b[0m\u001b[1;33m\u001b[0m\u001b[0m\n\u001b[0m\u001b[0;32m      2\u001b[0m \u001b[1;33m\u001b[0m\u001b[0m\n\u001b[0;32m      3\u001b[0m \u001b[0me\u001b[0m \u001b[1;33m=\u001b[0m \u001b[0mencrypt\u001b[0m\u001b[1;33m.\u001b[0m\u001b[0mEncrypt\u001b[0m\u001b[1;33m(\u001b[0m\u001b[1;33m)\u001b[0m\u001b[1;33m\u001b[0m\u001b[0m\n\u001b[0;32m      4\u001b[0m \u001b[0me\u001b[0m\u001b[1;33m.\u001b[0m\u001b[0msetCode\u001b[0m\u001b[1;33m(\u001b[0m\u001b[1;33m)\u001b[0m\u001b[1;33m\u001b[0m\u001b[0m\n\u001b[0;32m      5\u001b[0m \u001b[1;32mprint\u001b[0m\u001b[1;33m(\u001b[0m\u001b[1;33m)\u001b[0m\u001b[1;33m\u001b[0m\u001b[0m\n",
      "\u001b[1;31mImportError\u001b[0m: No module named encrypt"
     ]
    }
   ],
   "source": [
    "import encrypt\n",
    " \n",
    "e = encrypt.Encrypt()\n",
    "e.setCode()\n",
    "print()\n",
    "print(e.getCode())\n",
    "print(e.toEncode())\n",
    "print(e.toDecode())\n",
    "print()"
   ]
  },
  {
   "cell_type": "code",
   "execution_count": null,
   "metadata": {
    "collapsed": true
   },
   "outputs": [],
   "source": []
  }
 ],
 "metadata": {
  "kernelspec": {
   "display_name": "Python 2",
   "language": "python",
   "name": "python2"
  },
  "language_info": {
   "codemirror_mode": {
    "name": "ipython",
    "version": 2
   },
   "file_extension": ".py",
   "mimetype": "text/x-python",
   "name": "python",
   "nbconvert_exporter": "python",
   "pygments_lexer": "ipython2",
   "version": "2.7.10"
  }
 },
 "nbformat": 4,
 "nbformat_minor": 0
}
