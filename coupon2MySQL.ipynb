{
 "cells": [
  {
   "cell_type": "code",
   "execution_count": 1,
   "metadata": {
    "collapsed": false
   },
   "outputs": [
    {
     "name": "stdout",
     "output_type": "stream",
     "text": [
      "['a6cf76f111e587b5ff2ad3e0e0c5', 'a6d076f111e5b2fcff2ad3e0e0c5', 'a6d176f111e599beff2ad3e0e0c5', 'a6d276f111e5a33bff2ad3e0e0c5', 'a6d376f111e5972dff2ad3e0e0c5', 'a6d476f111e5bbd5ff2ad3e0e0c5', 'a6d576f111e5ae32ff2ad3e0e0c5', 'cdde76f111e58802ff2ad3e0e0c5', 'cddf76f111e5a691ff2ad3e0e0c5', 'cde076f111e59446ff2ad3e0e0c5']\n"
     ]
    }
   ],
   "source": [
    "import uuid\n",
    "\n",
    "def creat_code(number=10):\n",
    "\tresult =[]\n",
    "\n",
    "\twhile True is True:\n",
    "\t\tuuid_id=uuid.uuid1()\n",
    "\t\ttem = str(uuid_id).replace('-','')\n",
    "\t\ttmmmm=str(tem[4:])\n",
    "\t\tif not tmmmm in result:\n",
    "\t\t\tresult.append(tmmmm)\n",
    "\t\tif len(result) is number:\n",
    "\t\t\tbreak\n",
    "\tprint result\n",
    "\n",
    "creat_code()"
   ]
  },
  {
   "cell_type": "code",
   "execution_count": 19,
   "metadata": {
    "collapsed": false
   },
   "outputs": [
    {
     "name": "stdout",
     "output_type": "stream",
     "text": [
      "['122519e176f311e5a0f4ff2ad3e0e0c5', '122519e276f311e58c34ff2ad3e0e0c5', '122519e376f311e599c9ff2ad3e0e0c5', '122519e476f311e5a946ff2ad3e0e0c5', '122519e576f311e5a7e5ff2ad3e0e0c5', '122519e676f311e5ac31ff2ad3e0e0c5', '122519e776f311e588deff2ad3e0e0c5', '122519e876f311e5bd9eff2ad3e0e0c5', '122519e976f311e5b67bff2ad3e0e0c5', '122519ea76f311e5ab80ff2ad3e0e0c5']\n"
     ]
    }
   ],
   "source": [
    "import uuid\n",
    "def creat_coupon(number):\n",
    "    result=[]\n",
    "    while len(result) < number:\n",
    "        uuid_id = uuid.uuid1()\n",
    "        coupon =  str(uuid_id).replace('-','')\n",
    "        if not coupon in result:\n",
    "            result.append(coupon)\n",
    "    print result\n",
    "creat_coupon(10)"
   ]
  },
  {
   "cell_type": "markdown",
   "metadata": {},
   "source": [
    "##產生coupon並寫入到MYSQL中(1)"
   ]
  },
  {
   "cell_type": "code",
   "execution_count": 22,
   "metadata": {
    "collapsed": false
   },
   "outputs": [],
   "source": [
    "# -*- coding: utf-8 -*-\n",
    "\n",
    "import mysql.connector\n",
    "\n",
    "def store_mysql(filepath):\n",
    "    conn = mysql.connector.connect(user = 'root', password = '', database = 'ShowMeTheCode')\n",
    "    cursor = conn.cursor()\n",
    "\n",
    "    # 判断表是否已经存在\n",
    "    cursor.execute('show tables in ShowMeTheCode;')\n",
    "    tables = cursor.fetchall()\n",
    "    findtables = False\n",
    "    for table in tables:\n",
    "        if 'code' in table:\n",
    "            findtables = True\n",
    "    if not findtables:\n",
    "        cursor.execute('''\n",
    "                CREATE TABLE `ShowMeTheCode`.`code` (\n",
    "                `id` INT NOT NULL AUTO_INCREMENT,\n",
    "                `code` VARCHAR(10) NOT NULL,\n",
    "                PRIMARY KEY (`id`));\n",
    "        ''')\n",
    "\n",
    "    f = open(filepath, 'rb')\n",
    "    for line in f.readlines():\n",
    "        code = line.strip()\n",
    "        cursor.execute(\"insert into ShowMeTheCode.code (code) values(%s);\", [code])\n",
    "\n",
    "    conn.commit()\n",
    "    cursor.close()\n",
    "    conn.close()\n",
    "\n",
    "if __name__ == '__main__':\n",
    "    store_mysql('Activation_code.txt')"
   ]
  },
  {
   "cell_type": "markdown",
   "metadata": {},
   "source": [
    "##產生coupon並寫入到MYSQL中(2)"
   ]
  },
  {
   "cell_type": "code",
   "execution_count": null,
   "metadata": {
    "collapsed": true
   },
   "outputs": [],
   "source": [
    "#!/usr/bin/env python\n",
    "# -*- coding: utf-8 -*-\n",
    "# @Author: 30987\n",
    "# @Date:   2015-01-12 17:22:35\n",
    "# @Last Modified by:   30987\n",
    "# @Last Modified time: 2015-01-12 22:33:53\n",
    "\n",
    "#第 0002 题：将 0001 题生成的 200 个激活码（或者优惠券）保存到 MySQL 关系型数据库中。\n",
    "\n",
    "import uuid\n",
    "import MySQLdb\n",
    "\n",
    "def creat_code(number=20):\n",
    "\tresult = []\n",
    "\twhile True is True:\n",
    "\t\ttem=str(uuid.uuid1()).replace('-','')\n",
    "\t\tif not tem in result:\n",
    "\t\t\tresult.append(tem)\n",
    "\t\tif len(result) is number:\n",
    "\t\t\tbreak\n",
    "\treturn result\n",
    "\n",
    "def coont_db(result):\n",
    "\tnum = len(result)\n",
    "\tdb= MySQLdb.connect('localhost','root','','python',charset='utf8')\n",
    "\tcur = db.cursor()\n",
    "\n",
    "\ttry:\n",
    "\t\tdb= MySQLdb.connect('localhost','root','','python',charset='utf8')\n",
    "\t\tcur = db.cursor()\n",
    "\t\tprint \"OK\"\n",
    "\t\tfor i in xrange(num):\n",
    "\t\t\tcur.execute('insert into code (code_num) values(\"%s\")' % (result[i]))\n",
    "\t\tdb.commit()\n",
    "\texcept:\n",
    "\t\tprint \"数据库连接错误!\"\n",
    "\t\tdb.rollback()\n",
    "\tdb.close()\n",
    "\n",
    "\n",
    "\n",
    "if __name__ == '__main__':\n",
    "\tcoont_db(creat_code())"
   ]
  }
 ],
 "metadata": {
  "kernelspec": {
   "display_name": "Python 2",
   "language": "python",
   "name": "python2"
  },
  "language_info": {
   "codemirror_mode": {
    "name": "ipython",
    "version": 2
   },
   "file_extension": ".py",
   "mimetype": "text/x-python",
   "name": "python",
   "nbconvert_exporter": "python",
   "pygments_lexer": "ipython2",
   "version": "2.7.10"
  }
 },
 "nbformat": 4,
 "nbformat_minor": 0
}
